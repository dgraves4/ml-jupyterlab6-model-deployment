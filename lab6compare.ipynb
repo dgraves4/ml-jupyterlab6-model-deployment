{
 "cells": [
  {
   "cell_type": "code",
   "execution_count": 6,
   "metadata": {},
   "outputs": [
    {
     "name": "stdout",
     "output_type": "stream",
     "text": [
      "Input heights:  [[0], [50], [100], [150], [175], [200]]\n",
      "Predicted weights are:  [-166.29034128   -1.39346992   13.32603623   41.40189304   56.42986106\n",
      "   44.77557652]\n"
     ]
    },
    {
     "name": "stderr",
     "output_type": "stream",
     "text": [
      "c:\\Users\\derek\\OneDrive\\Documents\\Machine Learning\\Week 6\\ml-jupyterlab6-model-deployment\\.venv\\Lib\\site-packages\\sklearn\\base.py:493: UserWarning: X does not have valid feature names, but SimpleImputer was fitted with feature names\n",
      "  warnings.warn(\n"
     ]
    }
   ],
   "source": [
    "import pickle\n",
    "\n",
    "# load the model from disk\n",
    "filename = 'finalized_model.sav'\n",
    "loaded_model = pickle.load(open(filename, 'rb'))\n",
    "\n",
    "# heights to check\n",
    "heights = [[0], [50], [100], [150], [175], [200]]\n",
    "weights = loaded_model.predict(heights)\n",
    "print('Input heights: ', heights)\n",
    "print('Predicted weights are: ', weights)\n"
   ]
  }
 ],
 "metadata": {
  "kernelspec": {
   "display_name": ".venv",
   "language": "python",
   "name": "python3"
  },
  "language_info": {
   "codemirror_mode": {
    "name": "ipython",
    "version": 3
   },
   "file_extension": ".py",
   "mimetype": "text/x-python",
   "name": "python",
   "nbconvert_exporter": "python",
   "pygments_lexer": "ipython3",
   "version": "3.12.2"
  }
 },
 "nbformat": 4,
 "nbformat_minor": 2
}
